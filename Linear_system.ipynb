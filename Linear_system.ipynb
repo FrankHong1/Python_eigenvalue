{
 "cells": [
  {
   "cell_type": "code",
   "execution_count": 1,
   "id": "bd45df23-8ccd-4601-b19a-9a75f327bf24",
   "metadata": {},
   "outputs": [],
   "source": [
    "import numpy as np\n",
    "from scipy import linalg as LA\n",
    "from math import e\n",
    "from scipy import integrate"
   ]
  },
  {
   "cell_type": "code",
   "execution_count": 2,
   "id": "f776fb8c-751b-4807-8e7e-ae44b308a4fb",
   "metadata": {},
   "outputs": [],
   "source": [
    "def linear_system(t,Y,params):\n",
    "    #params is the array containing all the entries of a matrix\n",
    "    #this is a function that describes a linear system dX=AX, where A is n by n, X is n by 1\n",
    "    c11=params[0]\n",
    "    c12=params[1]\n",
    "    c13=params[2]\n",
    "    c21=params[3]\n",
    "    c22=params[4]\n",
    "    c23=params[5]\n",
    "    c31=params[6]\n",
    "    c32=params[7]\n",
    "    c33=params[8]\n",
    "    x=Y[0]\n",
    "    y=Y[1]\n",
    "    z=Y[2]\n",
    "    dx=c11*x+c12*y+c13*z\n",
    "    dy=c21*x+c22*y+c23*z\n",
    "    dz=c31*x+c32*y+c33*z\n",
    "    return([dx,dy,dz])\n",
    "def num_solve(func,tspan,y0,params):\n",
    "    sol=integrate.solve_ivp(func,tspan,y0,args=(params,))\n",
    "    sol=sol.y\n",
    "    Y=[]\n",
    "    x=sol[0]\n",
    "    x=x[-1]\n",
    "    y=sol[1]\n",
    "    y=y[-1]\n",
    "    z=sol[2]\n",
    "    z=z[-1]\n",
    "    Y.append(x)\n",
    "    Y.append(y)\n",
    "    Y.append(z)\n",
    "    return Y"
   ]
  },
  {
   "cell_type": "code",
   "execution_count": 3,
   "id": "7bb724a8-08f5-4597-912d-302d3b4cee99",
   "metadata": {},
   "outputs": [
    {
     "name": "stdout",
     "output_type": "stream",
     "text": [
      "[9.054661286697442e+25, 0.0, -1.8109322573394884e+26]\n"
     ]
    }
   ],
   "source": [
    "tspan=[0,10]\n",
    "y0=[2,0,-1]\n",
    "params=(2,0,-2,0,4,0,-2,0,5)\n",
    "numerical_solution=num_solve(linear_system,tspan,y0,params)#the numerical solution using RK45\n",
    "print(numerical_solution)"
   ]
  },
  {
   "cell_type": "code",
   "execution_count": 4,
   "id": "1937dfe0-f917-4b04-970c-27de602d7b45",
   "metadata": {},
   "outputs": [],
   "source": [
    "def matrix(params):\n",
    "    #turning the array as a matrix\n",
    "    params=np.array(params)\n",
    "    params=np.reshape(params,(3,3))\n",
    "    return params\n",
    "params=(2,0,-2,0,4,0,-2,0,5)"
   ]
  },
  {
   "cell_type": "code",
   "execution_count": 5,
   "id": "ff829d8e-0621-4ee7-88e8-f8f454e753b3",
   "metadata": {},
   "outputs": [],
   "source": [
    "A=matrix(params)"
   ]
  },
  {
   "cell_type": "code",
   "execution_count": 6,
   "id": "c5d01d71-85ae-4777-b981-d09f98509b5e",
   "metadata": {},
   "outputs": [],
   "source": [
    "def analy_solve(t,matrix,cons_params):\n",
    "    #solving a linear system dX=AX using the most general solution\n",
    "    #cons_params    containing n constants for n terms in the general solution\n",
    "    X=[]\n",
    "    w,v=LA.eigh(matrix)\n",
    "    L=len(w)\n",
    "    for i in range(L):\n",
    "        e_term=cons_params[i]*(e**(w[i]*t))\n",
    "        y=np.dot(e_term,v[:,i])\n",
    "        X.append(y)\n",
    "        Y=np.sum(X,axis=0)\n",
    "    return Y\n",
    "    #the function eventually returns the explicit solution"
   ]
  },
  {
   "cell_type": "code",
   "execution_count": null,
   "id": "c10b475f-e2e8-4e55-8cda-8665f93d6eda",
   "metadata": {},
   "outputs": [],
   "source": []
  }
 ],
 "metadata": {
  "kernelspec": {
   "display_name": "Python 3 (ipykernel)",
   "language": "python",
   "name": "python3"
  },
  "language_info": {
   "codemirror_mode": {
    "name": "ipython",
    "version": 3
   },
   "file_extension": ".py",
   "mimetype": "text/x-python",
   "name": "python",
   "nbconvert_exporter": "python",
   "pygments_lexer": "ipython3",
   "version": "3.9.7"
  }
 },
 "nbformat": 4,
 "nbformat_minor": 5
}
